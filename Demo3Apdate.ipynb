{
 "cells": [
  {
   "cell_type": "markdown",
   "metadata": {},
   "source": [
    "# Algunas funciones con pandas y una miradita a stocks de Apple\n",
    "\n",
    "Hola chicos, espero les haya ido bien con Sofi, hoy vamos a usar pandas para jugar con acciones bursalites.\n",
    "\n",
    "Para iniciar, si les faltan librerias, en el terminal las pueden bajar con los siguientes comandos en linux. Usar pip en vez de pip3 si se está en windows:\n",
    "\n",
    "<code>pip3 install numpy\n",
    "<code>pip3 install pandas\n",
    "<code>pip3 install pandas_datareader\n",
    "<code>pip3 install datetime\n",
    "    \n"
   ]
  },
  {
   "cell_type": "markdown",
   "metadata": {},
   "source": [
    "<code>read_sql()\n",
    "read_csv()"
   ]
  },
  {
   "cell_type": "code",
   "execution_count": 1,
   "metadata": {},
   "outputs": [],
   "source": [
    "import numpy as np\n",
    "import pandas as pd\n",
    "from pandas_datareader.data import DataReader\n",
    "import datetime as dt"
   ]
  },
  {
   "cell_type": "markdown",
   "metadata": {},
   "source": [
    "más sobre datetime objects: https://docs.python.org/3/library/datetime.html"
   ]
  },
  {
   "cell_type": "code",
   "execution_count": 2,
   "metadata": {},
   "outputs": [],
   "source": [
    "start = dt.date(2020, 1,1)\n",
    "end = dt.date.today()"
   ]
  },
  {
   "cell_type": "code",
   "execution_count": 3,
   "metadata": {},
   "outputs": [
    {
     "data": {
      "text/plain": [
       "datetime.date(2021, 9, 16)"
      ]
     },
     "execution_count": 3,
     "metadata": {},
     "output_type": "execute_result"
    }
   ],
   "source": [
    "end"
   ]
  },
  {
   "cell_type": "code",
   "execution_count": 4,
   "metadata": {},
   "outputs": [
    {
     "data": {
      "text/plain": [
       "datetime.date(2020, 1, 1)"
      ]
     },
     "execution_count": 4,
     "metadata": {},
     "output_type": "execute_result"
    }
   ],
   "source": [
    "start"
   ]
  },
  {
   "cell_type": "code",
   "execution_count": 5,
   "metadata": {},
   "outputs": [
    {
     "name": "stdout",
     "output_type": "stream",
     "text": [
      "624 days, 0:00:00\n",
      "446\n"
     ]
    }
   ],
   "source": [
    "print(end-start)\n",
    "print(np.busday_count(start,end))"
   ]
  },
  {
   "cell_type": "markdown",
   "metadata": {},
   "source": [
    "## Con DataReader puedo pedir datos de acciones en varias paginas.\n",
    "\n",
    "doc: http://esocialtrader.com/downloading-stock-prices/"
   ]
  },
  {
   "cell_type": "code",
   "execution_count": 6,
   "metadata": {},
   "outputs": [],
   "source": [
    "data = DataReader('AAPL', 'yahoo', start, end) #AAPL es apple, yahoo es yahoo.finance"
   ]
  },
  {
   "cell_type": "code",
   "execution_count": 32,
   "metadata": {},
   "outputs": [
    {
     "data": {
      "text/html": [
       "<div>\n",
       "<style scoped>\n",
       "    .dataframe tbody tr th:only-of-type {\n",
       "        vertical-align: middle;\n",
       "    }\n",
       "\n",
       "    .dataframe tbody tr th {\n",
       "        vertical-align: top;\n",
       "    }\n",
       "\n",
       "    .dataframe thead th {\n",
       "        text-align: right;\n",
       "    }\n",
       "</style>\n",
       "<table border=\"1\" class=\"dataframe\">\n",
       "  <thead>\n",
       "    <tr style=\"text-align: right;\">\n",
       "      <th></th>\n",
       "      <th>High</th>\n",
       "      <th>Low</th>\n",
       "      <th>Open</th>\n",
       "      <th>Close</th>\n",
       "      <th>Volume</th>\n",
       "      <th>Adj Close</th>\n",
       "      <th>Dif</th>\n",
       "      <th>signo</th>\n",
       "      <th>SignoString</th>\n",
       "    </tr>\n",
       "    <tr>\n",
       "      <th>Date</th>\n",
       "      <th></th>\n",
       "      <th></th>\n",
       "      <th></th>\n",
       "      <th></th>\n",
       "      <th></th>\n",
       "      <th></th>\n",
       "      <th></th>\n",
       "      <th></th>\n",
       "      <th></th>\n",
       "    </tr>\n",
       "  </thead>\n",
       "  <tbody>\n",
       "    <tr>\n",
       "      <th>2021-09-08</th>\n",
       "      <td>157.039993</td>\n",
       "      <td>153.979996</td>\n",
       "      <td>156.979996</td>\n",
       "      <td>155.110001</td>\n",
       "      <td>74420200.0</td>\n",
       "      <td>155.110001</td>\n",
       "      <td>-1.869995</td>\n",
       "      <td>False</td>\n",
       "      <td>Red</td>\n",
       "    </tr>\n",
       "    <tr>\n",
       "      <th>2021-09-09</th>\n",
       "      <td>156.110001</td>\n",
       "      <td>153.949997</td>\n",
       "      <td>155.490005</td>\n",
       "      <td>154.070007</td>\n",
       "      <td>57305700.0</td>\n",
       "      <td>154.070007</td>\n",
       "      <td>-1.419998</td>\n",
       "      <td>False</td>\n",
       "      <td>Red</td>\n",
       "    </tr>\n",
       "    <tr>\n",
       "      <th>2021-09-10</th>\n",
       "      <td>155.479996</td>\n",
       "      <td>148.699997</td>\n",
       "      <td>155.000000</td>\n",
       "      <td>148.970001</td>\n",
       "      <td>140646400.0</td>\n",
       "      <td>148.970001</td>\n",
       "      <td>-6.029999</td>\n",
       "      <td>False</td>\n",
       "      <td>Red</td>\n",
       "    </tr>\n",
       "    <tr>\n",
       "      <th>2021-09-13</th>\n",
       "      <td>151.419998</td>\n",
       "      <td>148.750000</td>\n",
       "      <td>150.630005</td>\n",
       "      <td>149.550003</td>\n",
       "      <td>102404300.0</td>\n",
       "      <td>149.550003</td>\n",
       "      <td>-1.080002</td>\n",
       "      <td>False</td>\n",
       "      <td>Red</td>\n",
       "    </tr>\n",
       "    <tr>\n",
       "      <th>2021-09-14</th>\n",
       "      <td>151.070007</td>\n",
       "      <td>146.910004</td>\n",
       "      <td>150.350006</td>\n",
       "      <td>148.119995</td>\n",
       "      <td>109296300.0</td>\n",
       "      <td>148.119995</td>\n",
       "      <td>-2.230011</td>\n",
       "      <td>False</td>\n",
       "      <td>Red</td>\n",
       "    </tr>\n",
       "    <tr>\n",
       "      <th>2021-09-15</th>\n",
       "      <td>149.440002</td>\n",
       "      <td>146.369995</td>\n",
       "      <td>148.559998</td>\n",
       "      <td>149.029999</td>\n",
       "      <td>83223400.0</td>\n",
       "      <td>149.029999</td>\n",
       "      <td>0.470001</td>\n",
       "      <td>True</td>\n",
       "      <td>Green</td>\n",
       "    </tr>\n",
       "    <tr>\n",
       "      <th>2021-09-16</th>\n",
       "      <td>148.968399</td>\n",
       "      <td>147.220993</td>\n",
       "      <td>148.440002</td>\n",
       "      <td>148.827194</td>\n",
       "      <td>50995436.0</td>\n",
       "      <td>148.827194</td>\n",
       "      <td>0.387192</td>\n",
       "      <td>True</td>\n",
       "      <td>Green</td>\n",
       "    </tr>\n",
       "  </tbody>\n",
       "</table>\n",
       "</div>"
      ],
      "text/plain": [
       "                  High         Low        Open       Close       Volume  \\\n",
       "Date                                                                      \n",
       "2021-09-08  157.039993  153.979996  156.979996  155.110001   74420200.0   \n",
       "2021-09-09  156.110001  153.949997  155.490005  154.070007   57305700.0   \n",
       "2021-09-10  155.479996  148.699997  155.000000  148.970001  140646400.0   \n",
       "2021-09-13  151.419998  148.750000  150.630005  149.550003  102404300.0   \n",
       "2021-09-14  151.070007  146.910004  150.350006  148.119995  109296300.0   \n",
       "2021-09-15  149.440002  146.369995  148.559998  149.029999   83223400.0   \n",
       "2021-09-16  148.968399  147.220993  148.440002  148.827194   50995436.0   \n",
       "\n",
       "             Adj Close       Dif  signo SignoString  \n",
       "Date                                                 \n",
       "2021-09-08  155.110001 -1.869995  False         Red  \n",
       "2021-09-09  154.070007 -1.419998  False         Red  \n",
       "2021-09-10  148.970001 -6.029999  False         Red  \n",
       "2021-09-13  149.550003 -1.080002  False         Red  \n",
       "2021-09-14  148.119995 -2.230011  False         Red  \n",
       "2021-09-15  149.029999  0.470001   True       Green  \n",
       "2021-09-16  148.827194  0.387192   True       Green  "
      ]
     },
     "execution_count": 32,
     "metadata": {},
     "output_type": "execute_result"
    }
   ],
   "source": [
    "data.tail(7)"
   ]
  },
  {
   "cell_type": "code",
   "execution_count": 8,
   "metadata": {
    "scrolled": true
   },
   "outputs": [
    {
     "data": {
      "text/plain": [
       "(431, 6)"
      ]
     },
     "execution_count": 8,
     "metadata": {},
     "output_type": "execute_result"
    }
   ],
   "source": [
    "data.shape"
   ]
  },
  {
   "cell_type": "markdown",
   "metadata": {},
   "source": [
    "## Acediendo a los datos"
   ]
  },
  {
   "cell_type": "markdown",
   "metadata": {},
   "source": [
    "### Para Series"
   ]
  },
  {
   "cell_type": "code",
   "execution_count": 9,
   "metadata": {},
   "outputs": [
    {
     "data": {
      "text/plain": [
       "Date\n",
       "2020-01-02     75.087502\n",
       "2020-01-03     74.357498\n",
       "2020-01-06     74.949997\n",
       "2020-01-07     74.597504\n",
       "2020-01-08     75.797501\n",
       "                 ...    \n",
       "2021-09-10    148.970001\n",
       "2021-09-13    149.550003\n",
       "2021-09-14    148.119995\n",
       "2021-09-15    149.029999\n",
       "2021-09-16    148.827194\n",
       "Name: Close, Length: 431, dtype: float64"
      ]
     },
     "execution_count": 9,
     "metadata": {},
     "output_type": "execute_result"
    }
   ],
   "source": [
    "close= data.Close #data.Close haría lo mismo\n",
    "close#.head()"
   ]
  },
  {
   "cell_type": "code",
   "execution_count": 10,
   "metadata": {},
   "outputs": [
    {
     "data": {
      "text/plain": [
       "115.80999755859375"
      ]
     },
     "execution_count": 10,
     "metadata": {},
     "output_type": "execute_result"
    }
   ],
   "source": [
    "close['2020-09-30']"
   ]
  },
  {
   "cell_type": "code",
   "execution_count": 11,
   "metadata": {},
   "outputs": [
    {
     "data": {
      "text/plain": [
       "115.80999755859375"
      ]
     },
     "execution_count": 11,
     "metadata": {},
     "output_type": "execute_result"
    }
   ],
   "source": [
    "close.loc['2020-09-30']"
   ]
  },
  {
   "cell_type": "code",
   "execution_count": 12,
   "metadata": {},
   "outputs": [
    {
     "data": {
      "text/plain": [
       "75.0875015258789"
      ]
     },
     "execution_count": 12,
     "metadata": {},
     "output_type": "execute_result"
    }
   ],
   "source": [
    "close.iloc[0]"
   ]
  },
  {
   "cell_type": "markdown",
   "metadata": {},
   "source": [
    "### Para DataFrame"
   ]
  },
  {
   "cell_type": "code",
   "execution_count": 13,
   "metadata": {},
   "outputs": [
    {
     "data": {
      "text/plain": [
       "High         7.515000e+01\n",
       "Low          7.379750e+01\n",
       "Open         7.406000e+01\n",
       "Close        7.508750e+01\n",
       "Volume       1.354804e+08\n",
       "Adj Close    7.409644e+01\n",
       "Name: 2020-01-02 00:00:00, dtype: float64"
      ]
     },
     "execution_count": 13,
     "metadata": {},
     "output_type": "execute_result"
    }
   ],
   "source": [
    "data.iloc[0]#['High']"
   ]
  },
  {
   "cell_type": "code",
   "execution_count": 14,
   "metadata": {},
   "outputs": [
    {
     "data": {
      "text/plain": [
       "High         7.515000e+01\n",
       "Low          7.379750e+01\n",
       "Open         7.406000e+01\n",
       "Close        7.508750e+01\n",
       "Volume       1.354804e+08\n",
       "Adj Close    7.409644e+01\n",
       "Name: 2020-01-02 00:00:00, dtype: float64"
      ]
     },
     "execution_count": 14,
     "metadata": {},
     "output_type": "execute_result"
    }
   ],
   "source": [
    "data.loc['2020-01-02']#['High']"
   ]
  },
  {
   "cell_type": "code",
   "execution_count": 15,
   "metadata": {},
   "outputs": [
    {
     "data": {
      "text/plain": [
       "[Timestamp('2020-01-02 00:00:00'),\n",
       " Timestamp('2020-01-03 00:00:00'),\n",
       " Timestamp('2020-01-06 00:00:00'),\n",
       " Timestamp('2020-01-07 00:00:00'),\n",
       " Timestamp('2020-01-08 00:00:00')]"
      ]
     },
     "execution_count": 15,
     "metadata": {},
     "output_type": "execute_result"
    }
   ],
   "source": [
    "list(data.index)[:5]"
   ]
  },
  {
   "cell_type": "code",
   "execution_count": 16,
   "metadata": {},
   "outputs": [
    {
     "data": {
      "text/plain": [
       "High         7.515000e+01\n",
       "Low          7.379750e+01\n",
       "Open         7.406000e+01\n",
       "Close        7.508750e+01\n",
       "Volume       1.354804e+08\n",
       "Adj Close    7.409644e+01\n",
       "Name: 2020-01-02 00:00:00, dtype: float64"
      ]
     },
     "execution_count": 16,
     "metadata": {},
     "output_type": "execute_result"
    }
   ],
   "source": [
    "data.loc[dt.datetime(2020,1,2)]"
   ]
  },
  {
   "cell_type": "code",
   "execution_count": 17,
   "metadata": {},
   "outputs": [
    {
     "data": {
      "text/plain": [
       "0     2020-01-02\n",
       "1     2020-01-03\n",
       "2     2020-01-06\n",
       "3     2020-01-07\n",
       "4     2020-01-08\n",
       "         ...    \n",
       "426   2021-09-10\n",
       "427   2021-09-13\n",
       "428   2021-09-14\n",
       "429   2021-09-15\n",
       "430   2021-09-16\n",
       "Name: Date, Length: 431, dtype: datetime64[ns]"
      ]
     },
     "execution_count": 17,
     "metadata": {},
     "output_type": "execute_result"
    }
   ],
   "source": [
    "data.reset_index().Date"
   ]
  },
  {
   "cell_type": "markdown",
   "metadata": {},
   "source": [
    "pasar de datetime o timestamp a string: https://pandas.pydata.org/docs/reference/api/pandas.Series.dt.strftime.html"
   ]
  },
  {
   "cell_type": "code",
   "execution_count": 18,
   "metadata": {},
   "outputs": [
    {
     "data": {
      "text/plain": [
       "Date\n",
       "2020-01-02    75.150002\n",
       "2020-01-03    75.144997\n",
       "2020-01-06    74.989998\n",
       "2020-01-07    75.224998\n",
       "2020-01-08    76.110001\n",
       "Name: High, dtype: float64"
      ]
     },
     "execution_count": 18,
     "metadata": {},
     "output_type": "execute_result"
    }
   ],
   "source": [
    "data.High.iloc[0:5]"
   ]
  },
  {
   "cell_type": "markdown",
   "metadata": {},
   "source": [
    "## Algunas funciones basicas"
   ]
  },
  {
   "cell_type": "code",
   "execution_count": 19,
   "metadata": {},
   "outputs": [
    {
     "data": {
      "text/html": [
       "<div>\n",
       "<style scoped>\n",
       "    .dataframe tbody tr th:only-of-type {\n",
       "        vertical-align: middle;\n",
       "    }\n",
       "\n",
       "    .dataframe tbody tr th {\n",
       "        vertical-align: top;\n",
       "    }\n",
       "\n",
       "    .dataframe thead th {\n",
       "        text-align: right;\n",
       "    }\n",
       "</style>\n",
       "<table border=\"1\" class=\"dataframe\">\n",
       "  <thead>\n",
       "    <tr style=\"text-align: right;\">\n",
       "      <th></th>\n",
       "      <th>High</th>\n",
       "      <th>Low</th>\n",
       "      <th>Open</th>\n",
       "      <th>Close</th>\n",
       "      <th>Volume</th>\n",
       "      <th>Adj Close</th>\n",
       "      <th>Dif</th>\n",
       "    </tr>\n",
       "    <tr>\n",
       "      <th>Date</th>\n",
       "      <th></th>\n",
       "      <th></th>\n",
       "      <th></th>\n",
       "      <th></th>\n",
       "      <th></th>\n",
       "      <th></th>\n",
       "      <th></th>\n",
       "    </tr>\n",
       "  </thead>\n",
       "  <tbody>\n",
       "    <tr>\n",
       "      <th>2020-01-02</th>\n",
       "      <td>75.150002</td>\n",
       "      <td>73.797501</td>\n",
       "      <td>74.059998</td>\n",
       "      <td>75.087502</td>\n",
       "      <td>135480400.0</td>\n",
       "      <td>74.096443</td>\n",
       "      <td>1.027504</td>\n",
       "    </tr>\n",
       "    <tr>\n",
       "      <th>2020-01-03</th>\n",
       "      <td>75.144997</td>\n",
       "      <td>74.125000</td>\n",
       "      <td>74.287498</td>\n",
       "      <td>74.357498</td>\n",
       "      <td>146322800.0</td>\n",
       "      <td>73.376083</td>\n",
       "      <td>0.070000</td>\n",
       "    </tr>\n",
       "    <tr>\n",
       "      <th>2020-01-06</th>\n",
       "      <td>74.989998</td>\n",
       "      <td>73.187500</td>\n",
       "      <td>73.447502</td>\n",
       "      <td>74.949997</td>\n",
       "      <td>118387200.0</td>\n",
       "      <td>73.960770</td>\n",
       "      <td>1.502495</td>\n",
       "    </tr>\n",
       "    <tr>\n",
       "      <th>2020-01-07</th>\n",
       "      <td>75.224998</td>\n",
       "      <td>74.370003</td>\n",
       "      <td>74.959999</td>\n",
       "      <td>74.597504</td>\n",
       "      <td>108872000.0</td>\n",
       "      <td>73.612930</td>\n",
       "      <td>-0.362495</td>\n",
       "    </tr>\n",
       "    <tr>\n",
       "      <th>2020-01-08</th>\n",
       "      <td>76.110001</td>\n",
       "      <td>74.290001</td>\n",
       "      <td>74.290001</td>\n",
       "      <td>75.797501</td>\n",
       "      <td>132079200.0</td>\n",
       "      <td>74.797081</td>\n",
       "      <td>1.507500</td>\n",
       "    </tr>\n",
       "  </tbody>\n",
       "</table>\n",
       "</div>"
      ],
      "text/plain": [
       "                 High        Low       Open      Close       Volume  \\\n",
       "Date                                                                  \n",
       "2020-01-02  75.150002  73.797501  74.059998  75.087502  135480400.0   \n",
       "2020-01-03  75.144997  74.125000  74.287498  74.357498  146322800.0   \n",
       "2020-01-06  74.989998  73.187500  73.447502  74.949997  118387200.0   \n",
       "2020-01-07  75.224998  74.370003  74.959999  74.597504  108872000.0   \n",
       "2020-01-08  76.110001  74.290001  74.290001  75.797501  132079200.0   \n",
       "\n",
       "            Adj Close       Dif  \n",
       "Date                             \n",
       "2020-01-02  74.096443  1.027504  \n",
       "2020-01-03  73.376083  0.070000  \n",
       "2020-01-06  73.960770  1.502495  \n",
       "2020-01-07  73.612930 -0.362495  \n",
       "2020-01-08  74.797081  1.507500  "
      ]
     },
     "execution_count": 19,
     "metadata": {},
     "output_type": "execute_result"
    }
   ],
   "source": [
    "#data.Close-data.Open\n",
    "data['Dif'] = data.Close-data.Open # Este sería el retorno de realizar un largo durante el día\n",
    "data.head()                        # Tambien conocido como intraday return"
   ]
  },
  {
   "cell_type": "markdown",
   "metadata": {},
   "source": [
    "cosas como <, >, ==, se encuentran en https://pandas.pydata.org/docs/reference/api/pandas.DataFrame.ge.html"
   ]
  },
  {
   "cell_type": "code",
   "execution_count": 20,
   "metadata": {},
   "outputs": [
    {
     "data": {
      "text/html": [
       "<div>\n",
       "<style scoped>\n",
       "    .dataframe tbody tr th:only-of-type {\n",
       "        vertical-align: middle;\n",
       "    }\n",
       "\n",
       "    .dataframe tbody tr th {\n",
       "        vertical-align: top;\n",
       "    }\n",
       "\n",
       "    .dataframe thead th {\n",
       "        text-align: right;\n",
       "    }\n",
       "</style>\n",
       "<table border=\"1\" class=\"dataframe\">\n",
       "  <thead>\n",
       "    <tr style=\"text-align: right;\">\n",
       "      <th></th>\n",
       "      <th>High</th>\n",
       "      <th>Low</th>\n",
       "      <th>Open</th>\n",
       "      <th>Close</th>\n",
       "      <th>Volume</th>\n",
       "      <th>Adj Close</th>\n",
       "      <th>Dif</th>\n",
       "      <th>signo</th>\n",
       "    </tr>\n",
       "    <tr>\n",
       "      <th>Date</th>\n",
       "      <th></th>\n",
       "      <th></th>\n",
       "      <th></th>\n",
       "      <th></th>\n",
       "      <th></th>\n",
       "      <th></th>\n",
       "      <th></th>\n",
       "      <th></th>\n",
       "    </tr>\n",
       "  </thead>\n",
       "  <tbody>\n",
       "    <tr>\n",
       "      <th>2020-01-02</th>\n",
       "      <td>75.150002</td>\n",
       "      <td>73.797501</td>\n",
       "      <td>74.059998</td>\n",
       "      <td>75.087502</td>\n",
       "      <td>135480400.0</td>\n",
       "      <td>74.096443</td>\n",
       "      <td>1.027504</td>\n",
       "      <td>True</td>\n",
       "    </tr>\n",
       "    <tr>\n",
       "      <th>2020-01-03</th>\n",
       "      <td>75.144997</td>\n",
       "      <td>74.125000</td>\n",
       "      <td>74.287498</td>\n",
       "      <td>74.357498</td>\n",
       "      <td>146322800.0</td>\n",
       "      <td>73.376083</td>\n",
       "      <td>0.070000</td>\n",
       "      <td>True</td>\n",
       "    </tr>\n",
       "    <tr>\n",
       "      <th>2020-01-06</th>\n",
       "      <td>74.989998</td>\n",
       "      <td>73.187500</td>\n",
       "      <td>73.447502</td>\n",
       "      <td>74.949997</td>\n",
       "      <td>118387200.0</td>\n",
       "      <td>73.960770</td>\n",
       "      <td>1.502495</td>\n",
       "      <td>True</td>\n",
       "    </tr>\n",
       "    <tr>\n",
       "      <th>2020-01-07</th>\n",
       "      <td>75.224998</td>\n",
       "      <td>74.370003</td>\n",
       "      <td>74.959999</td>\n",
       "      <td>74.597504</td>\n",
       "      <td>108872000.0</td>\n",
       "      <td>73.612930</td>\n",
       "      <td>-0.362495</td>\n",
       "      <td>False</td>\n",
       "    </tr>\n",
       "    <tr>\n",
       "      <th>2020-01-08</th>\n",
       "      <td>76.110001</td>\n",
       "      <td>74.290001</td>\n",
       "      <td>74.290001</td>\n",
       "      <td>75.797501</td>\n",
       "      <td>132079200.0</td>\n",
       "      <td>74.797081</td>\n",
       "      <td>1.507500</td>\n",
       "      <td>True</td>\n",
       "    </tr>\n",
       "  </tbody>\n",
       "</table>\n",
       "</div>"
      ],
      "text/plain": [
       "                 High        Low       Open      Close       Volume  \\\n",
       "Date                                                                  \n",
       "2020-01-02  75.150002  73.797501  74.059998  75.087502  135480400.0   \n",
       "2020-01-03  75.144997  74.125000  74.287498  74.357498  146322800.0   \n",
       "2020-01-06  74.989998  73.187500  73.447502  74.949997  118387200.0   \n",
       "2020-01-07  75.224998  74.370003  74.959999  74.597504  108872000.0   \n",
       "2020-01-08  76.110001  74.290001  74.290001  75.797501  132079200.0   \n",
       "\n",
       "            Adj Close       Dif  signo  \n",
       "Date                                    \n",
       "2020-01-02  74.096443  1.027504   True  \n",
       "2020-01-03  73.376083  0.070000   True  \n",
       "2020-01-06  73.960770  1.502495   True  \n",
       "2020-01-07  73.612930 -0.362495  False  \n",
       "2020-01-08  74.797081  1.507500   True  "
      ]
     },
     "execution_count": 20,
     "metadata": {},
     "output_type": "execute_result"
    }
   ],
   "source": [
    "data['signo']= data['Dif'].gt(0) #ge, e, le, lt\n",
    "data.head()"
   ]
  },
  {
   "cell_type": "code",
   "execution_count": 21,
   "metadata": {},
   "outputs": [
    {
     "data": {
      "text/html": [
       "<div>\n",
       "<style scoped>\n",
       "    .dataframe tbody tr th:only-of-type {\n",
       "        vertical-align: middle;\n",
       "    }\n",
       "\n",
       "    .dataframe tbody tr th {\n",
       "        vertical-align: top;\n",
       "    }\n",
       "\n",
       "    .dataframe thead th {\n",
       "        text-align: right;\n",
       "    }\n",
       "</style>\n",
       "<table border=\"1\" class=\"dataframe\">\n",
       "  <thead>\n",
       "    <tr style=\"text-align: right;\">\n",
       "      <th></th>\n",
       "      <th>High</th>\n",
       "      <th>Low</th>\n",
       "      <th>Open</th>\n",
       "      <th>Close</th>\n",
       "      <th>Volume</th>\n",
       "      <th>Adj Close</th>\n",
       "      <th>Dif</th>\n",
       "      <th>signo</th>\n",
       "      <th>SignoString</th>\n",
       "    </tr>\n",
       "    <tr>\n",
       "      <th>Date</th>\n",
       "      <th></th>\n",
       "      <th></th>\n",
       "      <th></th>\n",
       "      <th></th>\n",
       "      <th></th>\n",
       "      <th></th>\n",
       "      <th></th>\n",
       "      <th></th>\n",
       "      <th></th>\n",
       "    </tr>\n",
       "  </thead>\n",
       "  <tbody>\n",
       "    <tr>\n",
       "      <th>2020-01-02</th>\n",
       "      <td>75.150002</td>\n",
       "      <td>73.797501</td>\n",
       "      <td>74.059998</td>\n",
       "      <td>75.087502</td>\n",
       "      <td>135480400.0</td>\n",
       "      <td>74.096443</td>\n",
       "      <td>1.027504</td>\n",
       "      <td>True</td>\n",
       "      <td>Green</td>\n",
       "    </tr>\n",
       "    <tr>\n",
       "      <th>2020-01-03</th>\n",
       "      <td>75.144997</td>\n",
       "      <td>74.125000</td>\n",
       "      <td>74.287498</td>\n",
       "      <td>74.357498</td>\n",
       "      <td>146322800.0</td>\n",
       "      <td>73.376083</td>\n",
       "      <td>0.070000</td>\n",
       "      <td>True</td>\n",
       "      <td>Green</td>\n",
       "    </tr>\n",
       "    <tr>\n",
       "      <th>2020-01-06</th>\n",
       "      <td>74.989998</td>\n",
       "      <td>73.187500</td>\n",
       "      <td>73.447502</td>\n",
       "      <td>74.949997</td>\n",
       "      <td>118387200.0</td>\n",
       "      <td>73.960770</td>\n",
       "      <td>1.502495</td>\n",
       "      <td>True</td>\n",
       "      <td>Green</td>\n",
       "    </tr>\n",
       "    <tr>\n",
       "      <th>2020-01-07</th>\n",
       "      <td>75.224998</td>\n",
       "      <td>74.370003</td>\n",
       "      <td>74.959999</td>\n",
       "      <td>74.597504</td>\n",
       "      <td>108872000.0</td>\n",
       "      <td>73.612930</td>\n",
       "      <td>-0.362495</td>\n",
       "      <td>False</td>\n",
       "      <td>Red</td>\n",
       "    </tr>\n",
       "    <tr>\n",
       "      <th>2020-01-08</th>\n",
       "      <td>76.110001</td>\n",
       "      <td>74.290001</td>\n",
       "      <td>74.290001</td>\n",
       "      <td>75.797501</td>\n",
       "      <td>132079200.0</td>\n",
       "      <td>74.797081</td>\n",
       "      <td>1.507500</td>\n",
       "      <td>True</td>\n",
       "      <td>Green</td>\n",
       "    </tr>\n",
       "    <tr>\n",
       "      <th>...</th>\n",
       "      <td>...</td>\n",
       "      <td>...</td>\n",
       "      <td>...</td>\n",
       "      <td>...</td>\n",
       "      <td>...</td>\n",
       "      <td>...</td>\n",
       "      <td>...</td>\n",
       "      <td>...</td>\n",
       "      <td>...</td>\n",
       "    </tr>\n",
       "    <tr>\n",
       "      <th>2021-09-10</th>\n",
       "      <td>155.479996</td>\n",
       "      <td>148.699997</td>\n",
       "      <td>155.000000</td>\n",
       "      <td>148.970001</td>\n",
       "      <td>140646400.0</td>\n",
       "      <td>148.970001</td>\n",
       "      <td>-6.029999</td>\n",
       "      <td>False</td>\n",
       "      <td>Red</td>\n",
       "    </tr>\n",
       "    <tr>\n",
       "      <th>2021-09-13</th>\n",
       "      <td>151.419998</td>\n",
       "      <td>148.750000</td>\n",
       "      <td>150.630005</td>\n",
       "      <td>149.550003</td>\n",
       "      <td>102404300.0</td>\n",
       "      <td>149.550003</td>\n",
       "      <td>-1.080002</td>\n",
       "      <td>False</td>\n",
       "      <td>Red</td>\n",
       "    </tr>\n",
       "    <tr>\n",
       "      <th>2021-09-14</th>\n",
       "      <td>151.070007</td>\n",
       "      <td>146.910004</td>\n",
       "      <td>150.350006</td>\n",
       "      <td>148.119995</td>\n",
       "      <td>109296300.0</td>\n",
       "      <td>148.119995</td>\n",
       "      <td>-2.230011</td>\n",
       "      <td>False</td>\n",
       "      <td>Red</td>\n",
       "    </tr>\n",
       "    <tr>\n",
       "      <th>2021-09-15</th>\n",
       "      <td>149.440002</td>\n",
       "      <td>146.369995</td>\n",
       "      <td>148.559998</td>\n",
       "      <td>149.029999</td>\n",
       "      <td>83223400.0</td>\n",
       "      <td>149.029999</td>\n",
       "      <td>0.470001</td>\n",
       "      <td>True</td>\n",
       "      <td>Green</td>\n",
       "    </tr>\n",
       "    <tr>\n",
       "      <th>2021-09-16</th>\n",
       "      <td>148.968399</td>\n",
       "      <td>147.220993</td>\n",
       "      <td>148.440002</td>\n",
       "      <td>148.827194</td>\n",
       "      <td>50995436.0</td>\n",
       "      <td>148.827194</td>\n",
       "      <td>0.387192</td>\n",
       "      <td>True</td>\n",
       "      <td>Green</td>\n",
       "    </tr>\n",
       "  </tbody>\n",
       "</table>\n",
       "<p>431 rows × 9 columns</p>\n",
       "</div>"
      ],
      "text/plain": [
       "                  High         Low        Open       Close       Volume  \\\n",
       "Date                                                                      \n",
       "2020-01-02   75.150002   73.797501   74.059998   75.087502  135480400.0   \n",
       "2020-01-03   75.144997   74.125000   74.287498   74.357498  146322800.0   \n",
       "2020-01-06   74.989998   73.187500   73.447502   74.949997  118387200.0   \n",
       "2020-01-07   75.224998   74.370003   74.959999   74.597504  108872000.0   \n",
       "2020-01-08   76.110001   74.290001   74.290001   75.797501  132079200.0   \n",
       "...                ...         ...         ...         ...          ...   \n",
       "2021-09-10  155.479996  148.699997  155.000000  148.970001  140646400.0   \n",
       "2021-09-13  151.419998  148.750000  150.630005  149.550003  102404300.0   \n",
       "2021-09-14  151.070007  146.910004  150.350006  148.119995  109296300.0   \n",
       "2021-09-15  149.440002  146.369995  148.559998  149.029999   83223400.0   \n",
       "2021-09-16  148.968399  147.220993  148.440002  148.827194   50995436.0   \n",
       "\n",
       "             Adj Close       Dif  signo SignoString  \n",
       "Date                                                 \n",
       "2020-01-02   74.096443  1.027504   True       Green  \n",
       "2020-01-03   73.376083  0.070000   True       Green  \n",
       "2020-01-06   73.960770  1.502495   True       Green  \n",
       "2020-01-07   73.612930 -0.362495  False         Red  \n",
       "2020-01-08   74.797081  1.507500   True       Green  \n",
       "...                ...       ...    ...         ...  \n",
       "2021-09-10  148.970001 -6.029999  False         Red  \n",
       "2021-09-13  149.550003 -1.080002  False         Red  \n",
       "2021-09-14  148.119995 -2.230011  False         Red  \n",
       "2021-09-15  149.029999  0.470001   True       Green  \n",
       "2021-09-16  148.827194  0.387192   True       Green  \n",
       "\n",
       "[431 rows x 9 columns]"
      ]
     },
     "execution_count": 21,
     "metadata": {},
     "output_type": "execute_result"
    }
   ],
   "source": [
    "sig={True:'Green',False:'Red'}\n",
    "data['SignoString']=data.signo.map(sig)\n",
    "data"
   ]
  },
  {
   "cell_type": "code",
   "execution_count": 22,
   "metadata": {},
   "outputs": [
    {
     "data": {
      "text/plain": [
       "-6.870002746582031"
      ]
     },
     "execution_count": 22,
     "metadata": {},
     "output_type": "execute_result"
    }
   ],
   "source": [
    "data.Dif.min()"
   ]
  },
  {
   "cell_type": "code",
   "execution_count": 23,
   "metadata": {},
   "outputs": [
    {
     "data": {
      "text/plain": [
       "5.540000915527344"
      ]
     },
     "execution_count": 23,
     "metadata": {},
     "output_type": "execute_result"
    }
   ],
   "source": [
    "data.Dif.max()"
   ]
  },
  {
   "cell_type": "code",
   "execution_count": 24,
   "metadata": {},
   "outputs": [
    {
     "data": {
      "text/plain": [
       "228"
      ]
     },
     "execution_count": 24,
     "metadata": {},
     "output_type": "execute_result"
    }
   ],
   "source": [
    "data.signo.astype('int32').sum()"
   ]
  },
  {
   "cell_type": "code",
   "execution_count": 25,
   "metadata": {},
   "outputs": [
    {
     "data": {
      "text/plain": [
       "228"
      ]
     },
     "execution_count": 25,
     "metadata": {},
     "output_type": "execute_result"
    }
   ],
   "source": [
    "data.signo.sum()"
   ]
  },
  {
   "cell_type": "code",
   "execution_count": 26,
   "metadata": {},
   "outputs": [
    {
     "data": {
      "text/plain": [
       "0.05082825662918268"
      ]
     },
     "execution_count": 26,
     "metadata": {},
     "output_type": "execute_result"
    }
   ],
   "source": [
    "data.Dif.mean()"
   ]
  },
  {
   "cell_type": "code",
   "execution_count": 27,
   "metadata": {},
   "outputs": [
    {
     "data": {
      "text/plain": [
       "1.8304093892671949"
      ]
     },
     "execution_count": 27,
     "metadata": {},
     "output_type": "execute_result"
    }
   ],
   "source": [
    "data.Dif.std()"
   ]
  },
  {
   "cell_type": "markdown",
   "metadata": {},
   "source": [
    "## plots de pandas"
   ]
  },
  {
   "cell_type": "code",
   "execution_count": 28,
   "metadata": {},
   "outputs": [
    {
     "data": {
      "text/plain": [
       "<AxesSubplot:xlabel='Date'>"
      ]
     },
     "execution_count": 28,
     "metadata": {},
     "output_type": "execute_result"
    },
    {
     "data": {
      "image/png": "[encoded data removed]",
      "text/plain": [
       "<Figure size 432x288 with 1 Axes>"
      ]
     },
     "metadata": {
      "needs_background": "light"
     },
     "output_type": "display_data"
    }
   ],
   "source": [
    "data.Close.plot()"
   ]
  },
  {
   "cell_type": "code",
   "execution_count": 29,
   "metadata": {
    "scrolled": true
   },
   "outputs": [
    {
     "data": {
      "text/plain": [
       "<AxesSubplot:xlabel='Open', ylabel='Close'>"
      ]
     },
     "execution_count": 29,
     "metadata": {},
     "output_type": "execute_result"
    },
    {
     "data": {
      "image/png": "[encoded data removed]",
      "text/plain": [
       "<Figure size 432x288 with 1 Axes>"
      ]
     },
     "metadata": {
      "needs_background": "light"
     },
     "output_type": "display_data"
    }
   ],
   "source": [
    "data.plot.scatter(x='Open',y='Close', c='SignoString')"
   ]
  },
  {
   "cell_type": "code",
   "execution_count": 30,
   "metadata": {},
   "outputs": [
    {
     "data": {
      "text/html": [
       "<div>\n",
       "<style scoped>\n",
       "    .dataframe tbody tr th:only-of-type {\n",
       "        vertical-align: middle;\n",
       "    }\n",
       "\n",
       "    .dataframe tbody tr th {\n",
       "        vertical-align: top;\n",
       "    }\n",
       "\n",
       "    .dataframe thead th {\n",
       "        text-align: right;\n",
       "    }\n",
       "</style>\n",
       "<table border=\"1\" class=\"dataframe\">\n",
       "  <thead>\n",
       "    <tr style=\"text-align: right;\">\n",
       "      <th></th>\n",
       "      <th>High</th>\n",
       "      <th>Low</th>\n",
       "      <th>Open</th>\n",
       "      <th>Close</th>\n",
       "      <th>Volume</th>\n",
       "      <th>Adj Close</th>\n",
       "      <th>Dif</th>\n",
       "      <th>signo</th>\n",
       "    </tr>\n",
       "  </thead>\n",
       "  <tbody>\n",
       "    <tr>\n",
       "      <th>High</th>\n",
       "      <td>1.000000</td>\n",
       "      <td>0.998372</td>\n",
       "      <td>0.999084</td>\n",
       "      <td>0.998752</td>\n",
       "      <td>-0.524074</td>\n",
       "      <td>0.998706</td>\n",
       "      <td>-0.068011</td>\n",
       "      <td>-0.088260</td>\n",
       "    </tr>\n",
       "    <tr>\n",
       "      <th>Low</th>\n",
       "      <td>0.998372</td>\n",
       "      <td>1.000000</td>\n",
       "      <td>0.998594</td>\n",
       "      <td>0.998815</td>\n",
       "      <td>-0.559042</td>\n",
       "      <td>0.998850</td>\n",
       "      <td>-0.060010</td>\n",
       "      <td>-0.087690</td>\n",
       "    </tr>\n",
       "    <tr>\n",
       "      <th>Open</th>\n",
       "      <td>0.999084</td>\n",
       "      <td>0.998594</td>\n",
       "      <td>1.000000</td>\n",
       "      <td>0.997612</td>\n",
       "      <td>-0.537766</td>\n",
       "      <td>0.997590</td>\n",
       "      <td>-0.097689</td>\n",
       "      <td>-0.112857</td>\n",
       "    </tr>\n",
       "    <tr>\n",
       "      <th>Close</th>\n",
       "      <td>0.998752</td>\n",
       "      <td>0.998815</td>\n",
       "      <td>0.997612</td>\n",
       "      <td>1.000000</td>\n",
       "      <td>-0.543333</td>\n",
       "      <td>0.999976</td>\n",
       "      <td>-0.028718</td>\n",
       "      <td>-0.060366</td>\n",
       "    </tr>\n",
       "    <tr>\n",
       "      <th>Volume</th>\n",
       "      <td>-0.524074</td>\n",
       "      <td>-0.559042</td>\n",
       "      <td>-0.537766</td>\n",
       "      <td>-0.543333</td>\n",
       "      <td>1.000000</td>\n",
       "      <td>-0.544244</td>\n",
       "      <td>-0.046177</td>\n",
       "      <td>0.010373</td>\n",
       "    </tr>\n",
       "    <tr>\n",
       "      <th>Adj Close</th>\n",
       "      <td>0.998706</td>\n",
       "      <td>0.998850</td>\n",
       "      <td>0.997590</td>\n",
       "      <td>0.999976</td>\n",
       "      <td>-0.544244</td>\n",
       "      <td>1.000000</td>\n",
       "      <td>-0.028753</td>\n",
       "      <td>-0.060798</td>\n",
       "    </tr>\n",
       "    <tr>\n",
       "      <th>Dif</th>\n",
       "      <td>-0.068011</td>\n",
       "      <td>-0.060010</td>\n",
       "      <td>-0.097689</td>\n",
       "      <td>-0.028718</td>\n",
       "      <td>-0.046177</td>\n",
       "      <td>-0.028753</td>\n",
       "      <td>1.000000</td>\n",
       "      <td>0.763485</td>\n",
       "    </tr>\n",
       "    <tr>\n",
       "      <th>signo</th>\n",
       "      <td>-0.088260</td>\n",
       "      <td>-0.087690</td>\n",
       "      <td>-0.112857</td>\n",
       "      <td>-0.060366</td>\n",
       "      <td>0.010373</td>\n",
       "      <td>-0.060798</td>\n",
       "      <td>0.763485</td>\n",
       "      <td>1.000000</td>\n",
       "    </tr>\n",
       "  </tbody>\n",
       "</table>\n",
       "</div>"
      ],
      "text/plain": [
       "               High       Low      Open     Close    Volume  Adj Close  \\\n",
       "High       1.000000  0.998372  0.999084  0.998752 -0.524074   0.998706   \n",
       "Low        0.998372  1.000000  0.998594  0.998815 -0.559042   0.998850   \n",
       "Open       0.999084  0.998594  1.000000  0.997612 -0.537766   0.997590   \n",
       "Close      0.998752  0.998815  0.997612  1.000000 -0.543333   0.999976   \n",
       "Volume    -0.524074 -0.559042 -0.537766 -0.543333  1.000000  -0.544244   \n",
       "Adj Close  0.998706  0.998850  0.997590  0.999976 -0.544244   1.000000   \n",
       "Dif       -0.068011 -0.060010 -0.097689 -0.028718 -0.046177  -0.028753   \n",
       "signo     -0.088260 -0.087690 -0.112857 -0.060366  0.010373  -0.060798   \n",
       "\n",
       "                Dif     signo  \n",
       "High      -0.068011 -0.088260  \n",
       "Low       -0.060010 -0.087690  \n",
       "Open      -0.097689 -0.112857  \n",
       "Close     -0.028718 -0.060366  \n",
       "Volume    -0.046177  0.010373  \n",
       "Adj Close -0.028753 -0.060798  \n",
       "Dif        1.000000  0.763485  \n",
       "signo      0.763485  1.000000  "
      ]
     },
     "execution_count": 30,
     "metadata": {},
     "output_type": "execute_result"
    }
   ],
   "source": [
    "data.corr()"
   ]
  },
  {
   "cell_type": "code",
   "execution_count": 31,
   "metadata": {},
   "outputs": [
    {
     "data": {
      "text/plain": [
       "<AxesSubplot:ylabel='Density'>"
      ]
     },
     "execution_count": 31,
     "metadata": {},
     "output_type": "execute_result"
    },
    {
     "data": {
      "image/png": "[encoded data removed]",
      "text/plain": [
       "<Figure size 432x288 with 1 Axes>"
      ]
     },
     "metadata": {
      "needs_background": "light"
     },
     "output_type": "display_data"
    }
   ],
   "source": [
    "data.Dif.plot.kde()"
   ]
  },
  {
   "cell_type": "markdown",
   "metadata": {},
   "source": [
    "## Groupby"
   ]
  },
  {
   "cell_type": "code",
   "execution_count": 77,
   "metadata": {},
   "outputs": [
    {
     "data": {
      "text/html": [
       "<div>\n",
       "<style scoped>\n",
       "    .dataframe tbody tr th:only-of-type {\n",
       "        vertical-align: middle;\n",
       "    }\n",
       "\n",
       "    .dataframe tbody tr th {\n",
       "        vertical-align: top;\n",
       "    }\n",
       "\n",
       "    .dataframe thead th {\n",
       "        text-align: right;\n",
       "    }\n",
       "</style>\n",
       "<table border=\"1\" class=\"dataframe\">\n",
       "  <thead>\n",
       "    <tr style=\"text-align: right;\">\n",
       "      <th></th>\n",
       "      <th>High</th>\n",
       "      <th>Low</th>\n",
       "      <th>Open</th>\n",
       "      <th>Close</th>\n",
       "      <th>Volume</th>\n",
       "      <th>Adj Close</th>\n",
       "      <th>Dif</th>\n",
       "      <th>signo</th>\n",
       "      <th>SignoString</th>\n",
       "    </tr>\n",
       "    <tr>\n",
       "      <th>Date</th>\n",
       "      <th></th>\n",
       "      <th></th>\n",
       "      <th></th>\n",
       "      <th></th>\n",
       "      <th></th>\n",
       "      <th></th>\n",
       "      <th></th>\n",
       "      <th></th>\n",
       "      <th></th>\n",
       "    </tr>\n",
       "  </thead>\n",
       "  <tbody>\n",
       "    <tr>\n",
       "      <th>2020-03-09</th>\n",
       "      <td>69.522499</td>\n",
       "      <td>65.750000</td>\n",
       "      <td>65.937500</td>\n",
       "      <td>66.542503</td>\n",
       "      <td>286744800.0</td>\n",
       "      <td>65.820076</td>\n",
       "      <td>0.605003</td>\n",
       "      <td>True</td>\n",
       "      <td>Green</td>\n",
       "    </tr>\n",
       "    <tr>\n",
       "      <th>2020-03-10</th>\n",
       "      <td>71.610001</td>\n",
       "      <td>67.342499</td>\n",
       "      <td>69.285004</td>\n",
       "      <td>71.334999</td>\n",
       "      <td>285290000.0</td>\n",
       "      <td>70.560547</td>\n",
       "      <td>2.049995</td>\n",
       "      <td>True</td>\n",
       "      <td>Green</td>\n",
       "    </tr>\n",
       "    <tr>\n",
       "      <th>2020-03-11</th>\n",
       "      <td>70.305000</td>\n",
       "      <td>67.964996</td>\n",
       "      <td>69.347504</td>\n",
       "      <td>68.857498</td>\n",
       "      <td>255598800.0</td>\n",
       "      <td>68.109940</td>\n",
       "      <td>-0.490005</td>\n",
       "      <td>False</td>\n",
       "      <td>Red</td>\n",
       "    </tr>\n",
       "    <tr>\n",
       "      <th>2020-03-12</th>\n",
       "      <td>67.500000</td>\n",
       "      <td>62.000000</td>\n",
       "      <td>63.985001</td>\n",
       "      <td>62.057499</td>\n",
       "      <td>418474000.0</td>\n",
       "      <td>61.383766</td>\n",
       "      <td>-1.927502</td>\n",
       "      <td>False</td>\n",
       "      <td>Red</td>\n",
       "    </tr>\n",
       "    <tr>\n",
       "      <th>2020-03-13</th>\n",
       "      <td>69.980003</td>\n",
       "      <td>63.237499</td>\n",
       "      <td>66.222504</td>\n",
       "      <td>69.492500</td>\n",
       "      <td>370732000.0</td>\n",
       "      <td>68.738045</td>\n",
       "      <td>3.269997</td>\n",
       "      <td>True</td>\n",
       "      <td>Green</td>\n",
       "    </tr>\n",
       "  </tbody>\n",
       "</table>\n",
       "</div>"
      ],
      "text/plain": [
       "                 High        Low       Open      Close       Volume  \\\n",
       "Date                                                                  \n",
       "2020-03-09  69.522499  65.750000  65.937500  66.542503  286744800.0   \n",
       "2020-03-10  71.610001  67.342499  69.285004  71.334999  285290000.0   \n",
       "2020-03-11  70.305000  67.964996  69.347504  68.857498  255598800.0   \n",
       "2020-03-12  67.500000  62.000000  63.985001  62.057499  418474000.0   \n",
       "2020-03-13  69.980003  63.237499  66.222504  69.492500  370732000.0   \n",
       "\n",
       "            Adj Close       Dif  signo SignoString  \n",
       "Date                                                \n",
       "2020-03-09  65.820076  0.605003   True       Green  \n",
       "2020-03-10  70.560547  2.049995   True       Green  \n",
       "2020-03-11  68.109940 -0.490005  False         Red  \n",
       "2020-03-12  61.383766 -1.927502  False         Red  \n",
       "2020-03-13  68.738045  3.269997   True       Green  "
      ]
     },
     "execution_count": 77,
     "metadata": {},
     "output_type": "execute_result"
    }
   ],
   "source": [
    "sub=data.iloc[:50]\n",
    "sub.tail()"
   ]
  },
  {
   "cell_type": "code",
   "execution_count": 79,
   "metadata": {},
   "outputs": [
    {
     "data": {
      "text/html": [
       "<div>\n",
       "<style scoped>\n",
       "    .dataframe tbody tr th:only-of-type {\n",
       "        vertical-align: middle;\n",
       "    }\n",
       "\n",
       "    .dataframe tbody tr th {\n",
       "        vertical-align: top;\n",
       "    }\n",
       "\n",
       "    .dataframe thead th {\n",
       "        text-align: right;\n",
       "    }\n",
       "</style>\n",
       "<table border=\"1\" class=\"dataframe\">\n",
       "  <thead>\n",
       "    <tr style=\"text-align: right;\">\n",
       "      <th></th>\n",
       "      <th>High</th>\n",
       "      <th>Low</th>\n",
       "      <th>Open</th>\n",
       "      <th>Close</th>\n",
       "      <th>Volume</th>\n",
       "      <th>Adj Close</th>\n",
       "      <th>Dif</th>\n",
       "      <th>signo</th>\n",
       "    </tr>\n",
       "    <tr>\n",
       "      <th>SignoString</th>\n",
       "      <th></th>\n",
       "      <th></th>\n",
       "      <th></th>\n",
       "      <th></th>\n",
       "      <th></th>\n",
       "      <th></th>\n",
       "      <th></th>\n",
       "      <th></th>\n",
       "    </tr>\n",
       "  </thead>\n",
       "  <tbody>\n",
       "    <tr>\n",
       "      <th>Green</th>\n",
       "      <td>77.187845</td>\n",
       "      <td>74.951466</td>\n",
       "      <td>75.463880</td>\n",
       "      <td>76.726551</td>\n",
       "      <td>1.758817e+08</td>\n",
       "      <td>75.805240</td>\n",
       "      <td>1.262672</td>\n",
       "      <td>True</td>\n",
       "    </tr>\n",
       "    <tr>\n",
       "      <th>Red</th>\n",
       "      <td>77.758809</td>\n",
       "      <td>75.635238</td>\n",
       "      <td>77.092381</td>\n",
       "      <td>76.072143</td>\n",
       "      <td>1.792248e+08</td>\n",
       "      <td>75.150084</td>\n",
       "      <td>-1.020239</td>\n",
       "      <td>False</td>\n",
       "    </tr>\n",
       "  </tbody>\n",
       "</table>\n",
       "</div>"
      ],
      "text/plain": [
       "                  High        Low       Open      Close        Volume  \\\n",
       "SignoString                                                             \n",
       "Green        77.187845  74.951466  75.463880  76.726551  1.758817e+08   \n",
       "Red          77.758809  75.635238  77.092381  76.072143  1.792248e+08   \n",
       "\n",
       "             Adj Close       Dif  signo  \n",
       "SignoString                              \n",
       "Green        75.805240  1.262672   True  \n",
       "Red          75.150084 -1.020239  False  "
      ]
     },
     "execution_count": 79,
     "metadata": {},
     "output_type": "execute_result"
    }
   ],
   "source": [
    "sub.groupby('SignoString').mean()"
   ]
  },
  {
   "cell_type": "code",
   "execution_count": 81,
   "metadata": {},
   "outputs": [
    {
     "data": {
      "text/plain": [
       "SignoString\n",
       "Green    29\n",
       "Red      21\n",
       "Name: High, dtype: int64"
      ]
     },
     "execution_count": 81,
     "metadata": {},
     "output_type": "execute_result"
    }
   ],
   "source": [
    "sub.groupby('SignoString').count().iloc[:,0]"
   ]
  },
  {
   "cell_type": "markdown",
   "metadata": {},
   "source": [
    "más info en https://pandas.pydata.org/pandas-docs/stable/reference/groupby.html"
   ]
  },
  {
   "cell_type": "markdown",
   "metadata": {},
   "source": [
    "### 1) ¿Como crear una columna con la diferencia entre el Close de un dia y el del anterior? \n",
    "### 2) ¿Como sacar el mayor precio entre el 1 de Julio y el 31 de diciembre del 2020, inclusivo?"
   ]
  },
  {
   "cell_type": "code",
   "execution_count": 82,
   "metadata": {
    "scrolled": true
   },
   "outputs": [
    {
     "data": {
      "text/html": [
       "<div>\n",
       "<style scoped>\n",
       "    .dataframe tbody tr th:only-of-type {\n",
       "        vertical-align: middle;\n",
       "    }\n",
       "\n",
       "    .dataframe tbody tr th {\n",
       "        vertical-align: top;\n",
       "    }\n",
       "\n",
       "    .dataframe thead th {\n",
       "        text-align: right;\n",
       "    }\n",
       "</style>\n",
       "<table border=\"1\" class=\"dataframe\">\n",
       "  <thead>\n",
       "    <tr style=\"text-align: right;\">\n",
       "      <th></th>\n",
       "      <th>High</th>\n",
       "      <th>Low</th>\n",
       "      <th>Open</th>\n",
       "      <th>Close</th>\n",
       "      <th>Volume</th>\n",
       "      <th>Adj Close</th>\n",
       "      <th>Dif</th>\n",
       "      <th>signo</th>\n",
       "      <th>SignoString</th>\n",
       "    </tr>\n",
       "    <tr>\n",
       "      <th>Date</th>\n",
       "      <th></th>\n",
       "      <th></th>\n",
       "      <th></th>\n",
       "      <th></th>\n",
       "      <th></th>\n",
       "      <th></th>\n",
       "      <th></th>\n",
       "      <th></th>\n",
       "      <th></th>\n",
       "    </tr>\n",
       "  </thead>\n",
       "  <tbody>\n",
       "    <tr>\n",
       "      <th>2020-01-02</th>\n",
       "      <td>75.150002</td>\n",
       "      <td>73.797501</td>\n",
       "      <td>74.059998</td>\n",
       "      <td>75.087502</td>\n",
       "      <td>135480400.0</td>\n",
       "      <td>74.096443</td>\n",
       "      <td>1.027504</td>\n",
       "      <td>True</td>\n",
       "      <td>Green</td>\n",
       "    </tr>\n",
       "    <tr>\n",
       "      <th>2020-01-03</th>\n",
       "      <td>75.144997</td>\n",
       "      <td>74.125000</td>\n",
       "      <td>74.287498</td>\n",
       "      <td>74.357498</td>\n",
       "      <td>146322800.0</td>\n",
       "      <td>73.376083</td>\n",
       "      <td>0.070000</td>\n",
       "      <td>True</td>\n",
       "      <td>Green</td>\n",
       "    </tr>\n",
       "    <tr>\n",
       "      <th>2020-01-06</th>\n",
       "      <td>74.989998</td>\n",
       "      <td>73.187500</td>\n",
       "      <td>73.447502</td>\n",
       "      <td>74.949997</td>\n",
       "      <td>118387200.0</td>\n",
       "      <td>73.960770</td>\n",
       "      <td>1.502495</td>\n",
       "      <td>True</td>\n",
       "      <td>Green</td>\n",
       "    </tr>\n",
       "    <tr>\n",
       "      <th>2020-01-07</th>\n",
       "      <td>75.224998</td>\n",
       "      <td>74.370003</td>\n",
       "      <td>74.959999</td>\n",
       "      <td>74.597504</td>\n",
       "      <td>108872000.0</td>\n",
       "      <td>73.612930</td>\n",
       "      <td>-0.362495</td>\n",
       "      <td>False</td>\n",
       "      <td>Red</td>\n",
       "    </tr>\n",
       "    <tr>\n",
       "      <th>2020-01-08</th>\n",
       "      <td>76.110001</td>\n",
       "      <td>74.290001</td>\n",
       "      <td>74.290001</td>\n",
       "      <td>75.797501</td>\n",
       "      <td>132079200.0</td>\n",
       "      <td>74.797081</td>\n",
       "      <td>1.507500</td>\n",
       "      <td>True</td>\n",
       "      <td>Green</td>\n",
       "    </tr>\n",
       "  </tbody>\n",
       "</table>\n",
       "</div>"
      ],
      "text/plain": [
       "                 High        Low       Open      Close       Volume  \\\n",
       "Date                                                                  \n",
       "2020-01-02  75.150002  73.797501  74.059998  75.087502  135480400.0   \n",
       "2020-01-03  75.144997  74.125000  74.287498  74.357498  146322800.0   \n",
       "2020-01-06  74.989998  73.187500  73.447502  74.949997  118387200.0   \n",
       "2020-01-07  75.224998  74.370003  74.959999  74.597504  108872000.0   \n",
       "2020-01-08  76.110001  74.290001  74.290001  75.797501  132079200.0   \n",
       "\n",
       "            Adj Close       Dif  signo SignoString  \n",
       "Date                                                \n",
       "2020-01-02  74.096443  1.027504   True       Green  \n",
       "2020-01-03  73.376083  0.070000   True       Green  \n",
       "2020-01-06  73.960770  1.502495   True       Green  \n",
       "2020-01-07  73.612930 -0.362495  False         Red  \n",
       "2020-01-08  74.797081  1.507500   True       Green  "
      ]
     },
     "execution_count": 82,
     "metadata": {},
     "output_type": "execute_result"
    }
   ],
   "source": [
    "data.head()"
   ]
  },
  {
   "cell_type": "code",
   "execution_count": 87,
   "metadata": {},
   "outputs": [
    {
     "name": "stderr",
     "output_type": "stream",
     "text": [
      "/home/usuario/.local/lib/python3.6/site-packages/pandas/core/indexing.py:670: SettingWithCopyWarning: \n",
      "A value is trying to be set on a copy of a slice from a DataFrame\n",
      "\n",
      "See the caveats in the documentation: https://pandas.pydata.org/pandas-docs/stable/user_guide/indexing.html#returning-a-view-versus-a-copy\n",
      "  iloc._setitem_with_indexer(indexer, value)\n"
     ]
    },
    {
     "data": {
      "text/html": [
       "<div>\n",
       "<style scoped>\n",
       "    .dataframe tbody tr th:only-of-type {\n",
       "        vertical-align: middle;\n",
       "    }\n",
       "\n",
       "    .dataframe tbody tr th {\n",
       "        vertical-align: top;\n",
       "    }\n",
       "\n",
       "    .dataframe thead th {\n",
       "        text-align: right;\n",
       "    }\n",
       "</style>\n",
       "<table border=\"1\" class=\"dataframe\">\n",
       "  <thead>\n",
       "    <tr style=\"text-align: right;\">\n",
       "      <th></th>\n",
       "      <th>Date</th>\n",
       "      <th>High</th>\n",
       "      <th>Low</th>\n",
       "      <th>Open</th>\n",
       "      <th>Close</th>\n",
       "      <th>Volume</th>\n",
       "      <th>Adj Close</th>\n",
       "      <th>Dif</th>\n",
       "      <th>signo</th>\n",
       "      <th>SignoString</th>\n",
       "      <th>day2day</th>\n",
       "    </tr>\n",
       "  </thead>\n",
       "  <tbody>\n",
       "    <tr>\n",
       "      <th>0</th>\n",
       "      <td>2020-01-02</td>\n",
       "      <td>75.150002</td>\n",
       "      <td>73.797501</td>\n",
       "      <td>74.059998</td>\n",
       "      <td>75.087502</td>\n",
       "      <td>135480400.0</td>\n",
       "      <td>74.096443</td>\n",
       "      <td>1.027504</td>\n",
       "      <td>True</td>\n",
       "      <td>Green</td>\n",
       "      <td>0.000000</td>\n",
       "    </tr>\n",
       "    <tr>\n",
       "      <th>1</th>\n",
       "      <td>2020-01-03</td>\n",
       "      <td>75.144997</td>\n",
       "      <td>74.125000</td>\n",
       "      <td>74.287498</td>\n",
       "      <td>74.357498</td>\n",
       "      <td>146322800.0</td>\n",
       "      <td>73.376083</td>\n",
       "      <td>0.070000</td>\n",
       "      <td>True</td>\n",
       "      <td>Green</td>\n",
       "      <td>-0.730003</td>\n",
       "    </tr>\n",
       "    <tr>\n",
       "      <th>2</th>\n",
       "      <td>2020-01-06</td>\n",
       "      <td>74.989998</td>\n",
       "      <td>73.187500</td>\n",
       "      <td>73.447502</td>\n",
       "      <td>74.949997</td>\n",
       "      <td>118387200.0</td>\n",
       "      <td>73.960770</td>\n",
       "      <td>1.502495</td>\n",
       "      <td>True</td>\n",
       "      <td>Green</td>\n",
       "      <td>0.592499</td>\n",
       "    </tr>\n",
       "    <tr>\n",
       "      <th>3</th>\n",
       "      <td>2020-01-07</td>\n",
       "      <td>75.224998</td>\n",
       "      <td>74.370003</td>\n",
       "      <td>74.959999</td>\n",
       "      <td>74.597504</td>\n",
       "      <td>108872000.0</td>\n",
       "      <td>73.612930</td>\n",
       "      <td>-0.362495</td>\n",
       "      <td>False</td>\n",
       "      <td>Red</td>\n",
       "      <td>-0.352493</td>\n",
       "    </tr>\n",
       "    <tr>\n",
       "      <th>4</th>\n",
       "      <td>2020-01-08</td>\n",
       "      <td>76.110001</td>\n",
       "      <td>74.290001</td>\n",
       "      <td>74.290001</td>\n",
       "      <td>75.797501</td>\n",
       "      <td>132079200.0</td>\n",
       "      <td>74.797081</td>\n",
       "      <td>1.507500</td>\n",
       "      <td>True</td>\n",
       "      <td>Green</td>\n",
       "      <td>1.199997</td>\n",
       "    </tr>\n",
       "    <tr>\n",
       "      <th>...</th>\n",
       "      <td>...</td>\n",
       "      <td>...</td>\n",
       "      <td>...</td>\n",
       "      <td>...</td>\n",
       "      <td>...</td>\n",
       "      <td>...</td>\n",
       "      <td>...</td>\n",
       "      <td>...</td>\n",
       "      <td>...</td>\n",
       "      <td>...</td>\n",
       "      <td>...</td>\n",
       "    </tr>\n",
       "    <tr>\n",
       "      <th>426</th>\n",
       "      <td>2021-09-10</td>\n",
       "      <td>155.479996</td>\n",
       "      <td>148.699997</td>\n",
       "      <td>155.000000</td>\n",
       "      <td>148.970001</td>\n",
       "      <td>140646400.0</td>\n",
       "      <td>148.970001</td>\n",
       "      <td>-6.029999</td>\n",
       "      <td>False</td>\n",
       "      <td>Red</td>\n",
       "      <td>-5.100006</td>\n",
       "    </tr>\n",
       "    <tr>\n",
       "      <th>427</th>\n",
       "      <td>2021-09-13</td>\n",
       "      <td>151.419998</td>\n",
       "      <td>148.750000</td>\n",
       "      <td>150.630005</td>\n",
       "      <td>149.550003</td>\n",
       "      <td>102404300.0</td>\n",
       "      <td>149.550003</td>\n",
       "      <td>-1.080002</td>\n",
       "      <td>False</td>\n",
       "      <td>Red</td>\n",
       "      <td>0.580002</td>\n",
       "    </tr>\n",
       "    <tr>\n",
       "      <th>428</th>\n",
       "      <td>2021-09-14</td>\n",
       "      <td>151.070007</td>\n",
       "      <td>146.910004</td>\n",
       "      <td>150.350006</td>\n",
       "      <td>148.119995</td>\n",
       "      <td>109296300.0</td>\n",
       "      <td>148.119995</td>\n",
       "      <td>-2.230011</td>\n",
       "      <td>False</td>\n",
       "      <td>Red</td>\n",
       "      <td>-1.430008</td>\n",
       "    </tr>\n",
       "    <tr>\n",
       "      <th>429</th>\n",
       "      <td>2021-09-15</td>\n",
       "      <td>149.440002</td>\n",
       "      <td>146.369995</td>\n",
       "      <td>148.559998</td>\n",
       "      <td>149.029999</td>\n",
       "      <td>83223400.0</td>\n",
       "      <td>149.029999</td>\n",
       "      <td>0.470001</td>\n",
       "      <td>True</td>\n",
       "      <td>Green</td>\n",
       "      <td>0.910004</td>\n",
       "    </tr>\n",
       "    <tr>\n",
       "      <th>430</th>\n",
       "      <td>2021-09-16</td>\n",
       "      <td>148.968399</td>\n",
       "      <td>147.220993</td>\n",
       "      <td>148.440002</td>\n",
       "      <td>148.827194</td>\n",
       "      <td>50995436.0</td>\n",
       "      <td>148.827194</td>\n",
       "      <td>0.387192</td>\n",
       "      <td>True</td>\n",
       "      <td>Green</td>\n",
       "      <td>-0.202805</td>\n",
       "    </tr>\n",
       "  </tbody>\n",
       "</table>\n",
       "<p>431 rows × 11 columns</p>\n",
       "</div>"
      ],
      "text/plain": [
       "          Date        High         Low        Open       Close       Volume  \\\n",
       "0   2020-01-02   75.150002   73.797501   74.059998   75.087502  135480400.0   \n",
       "1   2020-01-03   75.144997   74.125000   74.287498   74.357498  146322800.0   \n",
       "2   2020-01-06   74.989998   73.187500   73.447502   74.949997  118387200.0   \n",
       "3   2020-01-07   75.224998   74.370003   74.959999   74.597504  108872000.0   \n",
       "4   2020-01-08   76.110001   74.290001   74.290001   75.797501  132079200.0   \n",
       "..         ...         ...         ...         ...         ...          ...   \n",
       "426 2021-09-10  155.479996  148.699997  155.000000  148.970001  140646400.0   \n",
       "427 2021-09-13  151.419998  148.750000  150.630005  149.550003  102404300.0   \n",
       "428 2021-09-14  151.070007  146.910004  150.350006  148.119995  109296300.0   \n",
       "429 2021-09-15  149.440002  146.369995  148.559998  149.029999   83223400.0   \n",
       "430 2021-09-16  148.968399  147.220993  148.440002  148.827194   50995436.0   \n",
       "\n",
       "      Adj Close       Dif  signo SignoString   day2day  \n",
       "0     74.096443  1.027504   True       Green  0.000000  \n",
       "1     73.376083  0.070000   True       Green -0.730003  \n",
       "2     73.960770  1.502495   True       Green  0.592499  \n",
       "3     73.612930 -0.362495  False         Red -0.352493  \n",
       "4     74.797081  1.507500   True       Green  1.199997  \n",
       "..          ...       ...    ...         ...       ...  \n",
       "426  148.970001 -6.029999  False         Red -5.100006  \n",
       "427  149.550003 -1.080002  False         Red  0.580002  \n",
       "428  148.119995 -2.230011  False         Red -1.430008  \n",
       "429  149.029999  0.470001   True       Green  0.910004  \n",
       "430  148.827194  0.387192   True       Green -0.202805  \n",
       "\n",
       "[431 rows x 11 columns]"
      ]
     },
     "execution_count": 87,
     "metadata": {},
     "output_type": "execute_result"
    }
   ],
   "source": [
    "data= data.reset_index()\n",
    "data['day2day']=0.0\n",
    "for i in list(data.index)[1:]:\n",
    "    data['day2day'].loc[i]= data['Close'].loc[i]-data['Close'].loc[i-1]\n",
    "    \n",
    "data"
   ]
  },
  {
   "cell_type": "code",
   "execution_count": 90,
   "metadata": {},
   "outputs": [
    {
     "data": {
      "text/html": [
       "<div>\n",
       "<style scoped>\n",
       "    .dataframe tbody tr th:only-of-type {\n",
       "        vertical-align: middle;\n",
       "    }\n",
       "\n",
       "    .dataframe tbody tr th {\n",
       "        vertical-align: top;\n",
       "    }\n",
       "\n",
       "    .dataframe thead th {\n",
       "        text-align: right;\n",
       "    }\n",
       "</style>\n",
       "<table border=\"1\" class=\"dataframe\">\n",
       "  <thead>\n",
       "    <tr style=\"text-align: right;\">\n",
       "      <th></th>\n",
       "      <th>Date</th>\n",
       "      <th>High</th>\n",
       "      <th>Low</th>\n",
       "      <th>Open</th>\n",
       "      <th>Close</th>\n",
       "      <th>Volume</th>\n",
       "      <th>Adj Close</th>\n",
       "      <th>Dif</th>\n",
       "      <th>signo</th>\n",
       "      <th>SignoString</th>\n",
       "      <th>day2day</th>\n",
       "    </tr>\n",
       "  </thead>\n",
       "  <tbody>\n",
       "    <tr>\n",
       "      <th>0</th>\n",
       "      <td>2020-01-02</td>\n",
       "      <td>75.150002</td>\n",
       "      <td>73.797501</td>\n",
       "      <td>74.059998</td>\n",
       "      <td>75.087502</td>\n",
       "      <td>135480400.0</td>\n",
       "      <td>74.096443</td>\n",
       "      <td>1.027504</td>\n",
       "      <td>True</td>\n",
       "      <td>Green</td>\n",
       "      <td>NaN</td>\n",
       "    </tr>\n",
       "    <tr>\n",
       "      <th>1</th>\n",
       "      <td>2020-01-03</td>\n",
       "      <td>75.144997</td>\n",
       "      <td>74.125000</td>\n",
       "      <td>74.287498</td>\n",
       "      <td>74.357498</td>\n",
       "      <td>146322800.0</td>\n",
       "      <td>73.376083</td>\n",
       "      <td>0.070000</td>\n",
       "      <td>True</td>\n",
       "      <td>Green</td>\n",
       "      <td>-0.730003</td>\n",
       "    </tr>\n",
       "    <tr>\n",
       "      <th>2</th>\n",
       "      <td>2020-01-06</td>\n",
       "      <td>74.989998</td>\n",
       "      <td>73.187500</td>\n",
       "      <td>73.447502</td>\n",
       "      <td>74.949997</td>\n",
       "      <td>118387200.0</td>\n",
       "      <td>73.960770</td>\n",
       "      <td>1.502495</td>\n",
       "      <td>True</td>\n",
       "      <td>Green</td>\n",
       "      <td>0.592499</td>\n",
       "    </tr>\n",
       "    <tr>\n",
       "      <th>3</th>\n",
       "      <td>2020-01-07</td>\n",
       "      <td>75.224998</td>\n",
       "      <td>74.370003</td>\n",
       "      <td>74.959999</td>\n",
       "      <td>74.597504</td>\n",
       "      <td>108872000.0</td>\n",
       "      <td>73.612930</td>\n",
       "      <td>-0.362495</td>\n",
       "      <td>False</td>\n",
       "      <td>Red</td>\n",
       "      <td>-0.352493</td>\n",
       "    </tr>\n",
       "    <tr>\n",
       "      <th>4</th>\n",
       "      <td>2020-01-08</td>\n",
       "      <td>76.110001</td>\n",
       "      <td>74.290001</td>\n",
       "      <td>74.290001</td>\n",
       "      <td>75.797501</td>\n",
       "      <td>132079200.0</td>\n",
       "      <td>74.797081</td>\n",
       "      <td>1.507500</td>\n",
       "      <td>True</td>\n",
       "      <td>Green</td>\n",
       "      <td>1.199997</td>\n",
       "    </tr>\n",
       "    <tr>\n",
       "      <th>...</th>\n",
       "      <td>...</td>\n",
       "      <td>...</td>\n",
       "      <td>...</td>\n",
       "      <td>...</td>\n",
       "      <td>...</td>\n",
       "      <td>...</td>\n",
       "      <td>...</td>\n",
       "      <td>...</td>\n",
       "      <td>...</td>\n",
       "      <td>...</td>\n",
       "      <td>...</td>\n",
       "    </tr>\n",
       "    <tr>\n",
       "      <th>426</th>\n",
       "      <td>2021-09-10</td>\n",
       "      <td>155.479996</td>\n",
       "      <td>148.699997</td>\n",
       "      <td>155.000000</td>\n",
       "      <td>148.970001</td>\n",
       "      <td>140646400.0</td>\n",
       "      <td>148.970001</td>\n",
       "      <td>-6.029999</td>\n",
       "      <td>False</td>\n",
       "      <td>Red</td>\n",
       "      <td>-5.100006</td>\n",
       "    </tr>\n",
       "    <tr>\n",
       "      <th>427</th>\n",
       "      <td>2021-09-13</td>\n",
       "      <td>151.419998</td>\n",
       "      <td>148.750000</td>\n",
       "      <td>150.630005</td>\n",
       "      <td>149.550003</td>\n",
       "      <td>102404300.0</td>\n",
       "      <td>149.550003</td>\n",
       "      <td>-1.080002</td>\n",
       "      <td>False</td>\n",
       "      <td>Red</td>\n",
       "      <td>0.580002</td>\n",
       "    </tr>\n",
       "    <tr>\n",
       "      <th>428</th>\n",
       "      <td>2021-09-14</td>\n",
       "      <td>151.070007</td>\n",
       "      <td>146.910004</td>\n",
       "      <td>150.350006</td>\n",
       "      <td>148.119995</td>\n",
       "      <td>109296300.0</td>\n",
       "      <td>148.119995</td>\n",
       "      <td>-2.230011</td>\n",
       "      <td>False</td>\n",
       "      <td>Red</td>\n",
       "      <td>-1.430008</td>\n",
       "    </tr>\n",
       "    <tr>\n",
       "      <th>429</th>\n",
       "      <td>2021-09-15</td>\n",
       "      <td>149.440002</td>\n",
       "      <td>146.369995</td>\n",
       "      <td>148.559998</td>\n",
       "      <td>149.029999</td>\n",
       "      <td>83223400.0</td>\n",
       "      <td>149.029999</td>\n",
       "      <td>0.470001</td>\n",
       "      <td>True</td>\n",
       "      <td>Green</td>\n",
       "      <td>0.910004</td>\n",
       "    </tr>\n",
       "    <tr>\n",
       "      <th>430</th>\n",
       "      <td>2021-09-16</td>\n",
       "      <td>148.968399</td>\n",
       "      <td>147.220993</td>\n",
       "      <td>148.440002</td>\n",
       "      <td>148.827194</td>\n",
       "      <td>50995436.0</td>\n",
       "      <td>148.827194</td>\n",
       "      <td>0.387192</td>\n",
       "      <td>True</td>\n",
       "      <td>Green</td>\n",
       "      <td>-0.202805</td>\n",
       "    </tr>\n",
       "  </tbody>\n",
       "</table>\n",
       "<p>431 rows × 11 columns</p>\n",
       "</div>"
      ],
      "text/plain": [
       "          Date        High         Low        Open       Close       Volume  \\\n",
       "0   2020-01-02   75.150002   73.797501   74.059998   75.087502  135480400.0   \n",
       "1   2020-01-03   75.144997   74.125000   74.287498   74.357498  146322800.0   \n",
       "2   2020-01-06   74.989998   73.187500   73.447502   74.949997  118387200.0   \n",
       "3   2020-01-07   75.224998   74.370003   74.959999   74.597504  108872000.0   \n",
       "4   2020-01-08   76.110001   74.290001   74.290001   75.797501  132079200.0   \n",
       "..         ...         ...         ...         ...         ...          ...   \n",
       "426 2021-09-10  155.479996  148.699997  155.000000  148.970001  140646400.0   \n",
       "427 2021-09-13  151.419998  148.750000  150.630005  149.550003  102404300.0   \n",
       "428 2021-09-14  151.070007  146.910004  150.350006  148.119995  109296300.0   \n",
       "429 2021-09-15  149.440002  146.369995  148.559998  149.029999   83223400.0   \n",
       "430 2021-09-16  148.968399  147.220993  148.440002  148.827194   50995436.0   \n",
       "\n",
       "      Adj Close       Dif  signo SignoString   day2day  \n",
       "0     74.096443  1.027504   True       Green       NaN  \n",
       "1     73.376083  0.070000   True       Green -0.730003  \n",
       "2     73.960770  1.502495   True       Green  0.592499  \n",
       "3     73.612930 -0.362495  False         Red -0.352493  \n",
       "4     74.797081  1.507500   True       Green  1.199997  \n",
       "..          ...       ...    ...         ...       ...  \n",
       "426  148.970001 -6.029999  False         Red -5.100006  \n",
       "427  149.550003 -1.080002  False         Red  0.580002  \n",
       "428  148.119995 -2.230011  False         Red -1.430008  \n",
       "429  149.029999  0.470001   True       Green  0.910004  \n",
       "430  148.827194  0.387192   True       Green -0.202805  \n",
       "\n",
       "[431 rows x 11 columns]"
      ]
     },
     "execution_count": 90,
     "metadata": {},
     "output_type": "execute_result"
    }
   ],
   "source": [
    "data['day2day']=data.Close.diff()\n",
    "data"
   ]
  },
  {
   "cell_type": "markdown",
   "metadata": {},
   "source": [
    "%%time les saca la el tiempo en el que se corrió lo que hay en la selda. para más funciones de iphython magic ver: https://ipython.readthedocs.io/en/stable/interactive/magics.html"
   ]
  },
  {
   "cell_type": "code",
   "execution_count": 103,
   "metadata": {},
   "outputs": [
    {
     "name": "stdout",
     "output_type": "stream",
     "text": [
      "CPU times: user 4.8 ms, sys: 0 ns, total: 4.8 ms\n",
      "Wall time: 4.78 ms\n"
     ]
    },
    {
     "data": {
      "text/plain": [
       "138.7899932861328"
      ]
     },
     "execution_count": 103,
     "metadata": {},
     "output_type": "execute_result"
    }
   ],
   "source": [
    "%%time\n",
    "#list(data.Date)[125:253]\n",
    "mayor=0\n",
    "for i in list(data.index)[125:253]:\n",
    "    if data.High.loc[i]>mayor: mayor= data.High.loc[i]\n",
    "\n",
    "mayor"
   ]
  },
  {
   "cell_type": "code",
   "execution_count": 104,
   "metadata": {},
   "outputs": [
    {
     "name": "stdout",
     "output_type": "stream",
     "text": [
      "CPU times: user 1.18 ms, sys: 0 ns, total: 1.18 ms\n",
      "Wall time: 1.07 ms\n"
     ]
    },
    {
     "data": {
      "text/plain": [
       "138.7899932861328"
      ]
     },
     "execution_count": 104,
     "metadata": {},
     "output_type": "execute_result"
    }
   ],
   "source": [
    "%%time\n",
    "data.iloc[125:253].High.max()"
   ]
  }
 ],
 "metadata": {
  "kernelspec": {
   "display_name": "Python 3",
   "language": "python",
   "name": "python3"
  },
  "language_info": {
   "codemirror_mode": {
    "name": "ipython",
    "version": 3
   },
   "file_extension": ".py",
   "mimetype": "text/x-python",
   "name": "python",
   "nbconvert_exporter": "python",
   "pygments_lexer": "ipython3",
   "version": "3.6.9"
  }
 },
 "nbformat": 4,
 "nbformat_minor": 4
}
