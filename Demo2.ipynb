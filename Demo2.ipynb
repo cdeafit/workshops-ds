{
 "cells": [
  {
   "cell_type": "markdown",
   "metadata": {},
   "source": [
    "# Demo 2, mas listas, mas strings\n",
    "\n",
    "**Hola chicos, hoy entraremos más profundamente a estos 2 temas especificos.**\n",
    "\n",
    "hay finca jaja"
   ]
  },
  {
   "cell_type": "code",
   "execution_count": 1,
   "metadata": {},
   "outputs": [],
   "source": [
    "import random"
   ]
  },
  {
   "cell_type": "code",
   "execution_count": 8,
   "metadata": {},
   "outputs": [
    {
     "data": {
      "text/plain": [
       "['b', 'b', 'b', 'a']"
      ]
     },
     "execution_count": 8,
     "metadata": {},
     "output_type": "execute_result"
    }
   ],
   "source": [
    "#b=[]\n",
    "b.append('a')\n",
    "b"
   ]
  },
  {
   "cell_type": "code",
   "execution_count": 11,
   "metadata": {},
   "outputs": [
    {
     "data": {
      "text/plain": [
       "[2, 3, 5, 4, 5, 3, 5, 3, 5, 5, 3, 2, 4, 3, 5, 2, 4, 2, 3, 3]"
      ]
     },
     "execution_count": 11,
     "metadata": {},
     "output_type": "execute_result"
    }
   ],
   "source": [
    "a=[]\n",
    "for i in range(20):\n",
    "    a.append(random.randint(1,5))\n",
    "a"
   ]
  },
  {
   "cell_type": "markdown",
   "metadata": {},
   "source": [
    "##  Tomar valores de la lista"
   ]
  },
  {
   "cell_type": "code",
   "execution_count": 14,
   "metadata": {},
   "outputs": [
    {
     "data": {
      "text/plain": [
       "[2, 3, 5, 4, 5]"
      ]
     },
     "execution_count": 14,
     "metadata": {},
     "output_type": "execute_result"
    }
   ],
   "source": [
    "a[ : ]"
   ]
  },
  {
   "cell_type": "code",
   "execution_count": 15,
   "metadata": {},
   "outputs": [
    {
     "data": {
      "text/plain": [
       "[2, 3, 5, 4, 5]"
      ]
     },
     "execution_count": 15,
     "metadata": {},
     "output_type": "execute_result"
    }
   ],
   "source": [
    "a[:5]"
   ]
  },
  {
   "cell_type": "code",
   "execution_count": 16,
   "metadata": {},
   "outputs": [
    {
     "data": {
      "text/plain": [
       "[3, 5, 3, 5, 5, 3, 2, 4, 3, 5, 2, 4, 2, 3, 3]"
      ]
     },
     "execution_count": 16,
     "metadata": {},
     "output_type": "execute_result"
    }
   ],
   "source": [
    "a[5:]"
   ]
  },
  {
   "cell_type": "code",
   "execution_count": 35,
   "metadata": {},
   "outputs": [
    {
     "data": {
      "text/plain": [
       "[2, 3, 5, 4, 5, 3, 5, 3, 5, 5, 3, 2, 4, 3, 5, 2, 4, 2, 3]"
      ]
     },
     "execution_count": 35,
     "metadata": {},
     "output_type": "execute_result"
    }
   ],
   "source": [
    "a[:-1]"
   ]
  },
  {
   "cell_type": "markdown",
   "metadata": {},
   "source": [
    "## ¿Como tomar todos los valores por encima de cierto valor?"
   ]
  },
  {
   "cell_type": "code",
   "execution_count": 26,
   "metadata": {},
   "outputs": [
    {
     "data": {
      "text/plain": [
       "[1, 1, 1, 2, 1, 4, 5, 4, 2, 3, 9, 12, 2, 9, 8, 7, 3, 13, 7, 18]"
      ]
     },
     "execution_count": 26,
     "metadata": {},
     "output_type": "execute_result"
    }
   ],
   "source": [
    "escalonAleatorio=[]\n",
    "n=1\n",
    "while n<=20:\n",
    "    escalonAleatorio.append(random.randint(1,n))\n",
    "    n= n+1 #igual a n+=1\n",
    "\n",
    "escalonAleatorio"
   ]
  },
  {
   "cell_type": "code",
   "execution_count": 27,
   "metadata": {},
   "outputs": [
    {
     "data": {
      "text/plain": [
       "[9, 12, 9, 8, 7, 13, 7, 18]"
      ]
     },
     "execution_count": 27,
     "metadata": {},
     "output_type": "execute_result"
    }
   ],
   "source": [
    "mayor_a_5=[]\n",
    "for i in escalonAleatorio:\n",
    "    if i > 5:\n",
    "        mayor_a_5.append(i)\n",
    "mayor_a_5"
   ]
  },
  {
   "cell_type": "markdown",
   "metadata": {},
   "source": [
    "## Comprensiones de lista:\n",
    "\n",
    "<code>[f(x) for x in sequence]\n",
    "\n",
    "[f(x) for x in sequence if condition] \n",
    "\n",
    "<code>[f(x) if condition else g(x) for x in sequence]\n"
   ]
  },
  {
   "cell_type": "code",
   "execution_count": 28,
   "metadata": {
    "scrolled": true
   },
   "outputs": [
    {
     "data": {
      "text/plain": [
       "[9, 12, 9, 8, 7, 13, 7, 18]"
      ]
     },
     "execution_count": 28,
     "metadata": {},
     "output_type": "execute_result"
    }
   ],
   "source": [
    "[i for i in escalonAleatorio if i > 5]"
   ]
  },
  {
   "cell_type": "code",
   "execution_count": 29,
   "metadata": {},
   "outputs": [
    {
     "data": {
      "text/plain": [
       "[81, 144, 81, 64, 49, 169, 49, 324]"
      ]
     },
     "execution_count": 29,
     "metadata": {},
     "output_type": "execute_result"
    }
   ],
   "source": [
    "[i**2 for i in escalonAleatorio if i > 5]"
   ]
  },
  {
   "cell_type": "code",
   "execution_count": 30,
   "metadata": {},
   "outputs": [
    {
     "data": {
      "text/plain": [
       "['1',\n",
       " '1',\n",
       " '1',\n",
       " '2',\n",
       " '1',\n",
       " '4',\n",
       " '5',\n",
       " '4',\n",
       " '2',\n",
       " '3',\n",
       " 9,\n",
       " 12,\n",
       " '2',\n",
       " 9,\n",
       " 8,\n",
       " 7,\n",
       " '3',\n",
       " 13,\n",
       " 7,\n",
       " 18]"
      ]
     },
     "execution_count": 30,
     "metadata": {},
     "output_type": "execute_result"
    }
   ],
   "source": [
    "[i if i > 5 else str(i) for i in escalonAleatorio ]"
   ]
  },
  {
   "cell_type": "markdown",
   "metadata": {},
   "source": [
    "## ¿Que hay en mi finca?"
   ]
  },
  {
   "cell_type": "code",
   "execution_count": 31,
   "metadata": {},
   "outputs": [],
   "source": [
    "#Inicialmente llego a la finca con solo los animales que tenía en casa\n",
    "finca= ['perro','gato']"
   ]
  },
  {
   "cell_type": "code",
   "execution_count": 32,
   "metadata": {},
   "outputs": [],
   "source": [
    "#cosas que quiero llevar a la finca algún dia\n",
    "ganado = ['vaca', 'gallina', 'pescado','cerdo']\n",
    "cosechas = ['arroz','papa','platano']"
   ]
  },
  {
   "cell_type": "code",
   "execution_count": 33,
   "metadata": {},
   "outputs": [
    {
     "data": {
      "text/plain": [
       "'vacavacavaca'"
      ]
     },
     "execution_count": 33,
     "metadata": {},
     "output_type": "execute_result"
    }
   ],
   "source": [
    "ganado[0]*3"
   ]
  },
  {
   "cell_type": "code",
   "execution_count": 34,
   "metadata": {},
   "outputs": [
    {
     "data": {
      "text/plain": [
       "'vaca y vaca y vaca y '"
      ]
     },
     "execution_count": 34,
     "metadata": {},
     "output_type": "execute_result"
    }
   ],
   "source": [
    "(ganado[0]+' y ')*3"
   ]
  },
  {
   "cell_type": "code",
   "execution_count": 36,
   "metadata": {},
   "outputs": [
    {
     "data": {
      "text/plain": [
       "'vaca y vaca y vaca'"
      ]
     },
     "execution_count": 36,
     "metadata": {},
     "output_type": "execute_result"
    }
   ],
   "source": [
    "((ganado[0]+' y ')*3)[:-3]"
   ]
  },
  {
   "cell_type": "markdown",
   "metadata": {},
   "source": [
    "## fstrings"
   ]
  },
  {
   "cell_type": "code",
   "execution_count": 37,
   "metadata": {},
   "outputs": [
    {
     "data": {
      "text/plain": [
       "'Cuando primero compré la finca, no tenia animales llevar, entonces tocó llegar con solo el perro y el gato que tenía en casa.'"
      ]
     },
     "execution_count": 37,
     "metadata": {},
     "output_type": "execute_result"
    }
   ],
   "source": [
    "f1= f'Cuando primero compré la finca, no tenia animales llevar, entonces tocó llegar con solo el {finca[0]} y el {finca[1]} que tenía en casa.'\n",
    "f1"
   ]
  },
  {
   "cell_type": "code",
   "execution_count": 42,
   "metadata": {},
   "outputs": [
    {
     "name": "stdout",
     "output_type": "stream",
     "text": [
      "Mi meta es traer de aquí a 3 meses:\n",
      "3 vacas\n",
      "10 gallinas\n",
      "20 pescados\n",
      "5 cerdos\n"
     ]
    }
   ],
   "source": [
    "vacas = 3\n",
    "gallinas= 10\n",
    "pescados = 20\n",
    "cerdos = 5\n",
    "nl='\\n'\n",
    "metas ={\n",
    "    ganado[0]:vacas,\n",
    "    ganado[1]:gallinas,\n",
    "    ganado[2]:pescados,\n",
    "    ganado[3]:cerdos,\n",
    "}\n",
    "f2=\"Mi meta es traer de aquí a 3 meses:\"\n",
    "for i in list(metas.keys()):\n",
    "    f2+= f\"{nl}{metas[i]} {i}s\"\n",
    "print(f2)"
   ]
  },
  {
   "cell_type": "code",
   "execution_count": 43,
   "metadata": {},
   "outputs": [
    {
     "name": "stdout",
     "output_type": "stream",
     "text": [
      "Cuando primero compré la finca, no tenia animales llevar, entonces tocó llegar con solo el perro y el gato que tenía en casa.\n",
      "Mi meta es traer de aquí a 3 meses:\n",
      "3 vacas\n",
      "10 gallinas\n",
      "20 pescados\n",
      "5 cerdos\n"
     ]
    }
   ],
   "source": [
    "doc= f1+'\\n'+f2\n",
    "print(doc)"
   ]
  },
  {
   "cell_type": "code",
   "execution_count": 48,
   "metadata": {},
   "outputs": [
    {
     "data": {
      "text/plain": [
       "['Cuando primero compré la finca, no tenia animales llevar, entonces tocó llegar con solo el perro y el gato que tenía en casa.',\n",
       " 'Mi meta es traer de aquí a 3 meses:',\n",
       " '3 vacas',\n",
       " '10 gallinas',\n",
       " '20 pescados',\n",
       " '5 cerdos']"
      ]
     },
     "execution_count": 48,
     "metadata": {},
     "output_type": "execute_result"
    }
   ],
   "source": [
    "lineas = doc.split('\\n')\n",
    "lineas"
   ]
  },
  {
   "cell_type": "code",
   "execution_count": 49,
   "metadata": {},
   "outputs": [
    {
     "data": {
      "text/plain": [
       "['Cuando',\n",
       " 'primero',\n",
       " 'compré',\n",
       " 'la',\n",
       " 'finca,',\n",
       " 'no',\n",
       " 'tenia',\n",
       " 'animales',\n",
       " 'llevar,',\n",
       " 'entonces',\n",
       " 'tocó',\n",
       " 'llegar',\n",
       " 'con',\n",
       " 'solo',\n",
       " 'el',\n",
       " 'perro',\n",
       " 'y',\n",
       " 'el',\n",
       " 'gato',\n",
       " 'que',\n",
       " 'tenía',\n",
       " 'en',\n",
       " 'casa.\\nMi',\n",
       " 'meta',\n",
       " 'es',\n",
       " 'traer',\n",
       " 'de',\n",
       " 'aquí',\n",
       " 'a',\n",
       " '3',\n",
       " 'meses:\\n3',\n",
       " 'vacas\\n10',\n",
       " 'gallinas\\n20',\n",
       " 'pescados\\n5',\n",
       " 'cerdos']"
      ]
     },
     "execution_count": 49,
     "metadata": {},
     "output_type": "execute_result"
    }
   ],
   "source": [
    "doc.split(' ')"
   ]
  },
  {
   "cell_type": "code",
   "execution_count": 50,
   "metadata": {},
   "outputs": [
    {
     "data": {
      "text/plain": [
       "['Cuando',\n",
       " 'primero',\n",
       " 'compré',\n",
       " 'finca,',\n",
       " 'tenia',\n",
       " 'animales',\n",
       " 'llevar,',\n",
       " 'entonces',\n",
       " 'llegar',\n",
       " 'perro',\n",
       " 'tenía',\n",
       " 'casa.\\nMi',\n",
       " 'traer',\n",
       " 'meses:\\n3',\n",
       " 'vacas\\n10',\n",
       " 'gallinas\\n20',\n",
       " 'pescados\\n5',\n",
       " 'cerdos']"
      ]
     },
     "execution_count": 50,
     "metadata": {},
     "output_type": "execute_result"
    }
   ],
   "source": [
    "[i for i in doc.split(' ') if len(i)>=5]"
   ]
  },
  {
   "cell_type": "code",
   "execution_count": 53,
   "metadata": {},
   "outputs": [
    {
     "data": {
      "text/plain": [
       "'Cuando primero compré la finca, no tenia animales llevar, entonces tocó llegar con solo el perro y el gato que tenía en casa. Mi meta es traer de aquí a 3 meses: 3 vacas 10 gallinas 20 pescados 5 cerdos'"
      ]
     },
     "execution_count": 53,
     "metadata": {},
     "output_type": "execute_result"
    }
   ],
   "source": [
    "doc2 = doc.replace('\\n',' ')\n",
    "doc2"
   ]
  },
  {
   "cell_type": "code",
   "execution_count": 54,
   "metadata": {},
   "outputs": [
    {
     "data": {
      "text/plain": [
       "['Cuando',\n",
       " 'primero',\n",
       " 'compré',\n",
       " 'finca,',\n",
       " 'tenia',\n",
       " 'animales',\n",
       " 'llevar,',\n",
       " 'entonces',\n",
       " 'llegar',\n",
       " 'perro',\n",
       " 'tenía',\n",
       " 'casa.',\n",
       " 'traer',\n",
       " 'meses:',\n",
       " 'vacas',\n",
       " 'gallinas',\n",
       " 'pescados',\n",
       " 'cerdos']"
      ]
     },
     "execution_count": 54,
     "metadata": {},
     "output_type": "execute_result"
    }
   ],
   "source": [
    "[i for i in doc2.split(' ') if len(i)>=5]#"
   ]
  },
  {
   "cell_type": "code",
   "execution_count": 55,
   "metadata": {},
   "outputs": [
    {
     "name": "stdout",
     "output_type": "stream",
     "text": [
      "False\n",
      "True\n"
     ]
    }
   ],
   "source": [
    "print('\\n' in doc2)\n",
    "print('\\n' in doc)"
   ]
  },
  {
   "cell_type": "code",
   "execution_count": 59,
   "metadata": {},
   "outputs": [
    {
     "data": {
      "text/plain": [
       "['Cuando',\n",
       " 'la',\n",
       " 'finca,',\n",
       " 'tenia',\n",
       " 'animales',\n",
       " 'llevar,',\n",
       " 'llegar',\n",
       " 'gato',\n",
       " 'tenía',\n",
       " 'casa.',\n",
       " 'meta',\n",
       " 'traer',\n",
       " 'aquí',\n",
       " 'a',\n",
       " 'vacas',\n",
       " 'gallinas',\n",
       " 'pescados']"
      ]
     },
     "execution_count": 59,
     "metadata": {},
     "output_type": "execute_result"
    }
   ],
   "source": [
    "[i for i in doc2.split(' ') if 'a' in i]"
   ]
  },
  {
   "cell_type": "code",
   "execution_count": 61,
   "metadata": {},
   "outputs": [
    {
     "name": "stdout",
     "output_type": "stream",
     "text": [
      "Cuando primero compré la finca, no tenia animales llevar, entonces tocó llegar con solo el perro y el gato que tenía en casa.\n",
      "Mi meta es traer de aquí a 3 meses:\n",
      "3 vacas\n",
      "10 gallinas\n",
      "20 pescados\n",
      "5 cerdos\n",
      " un poco de arroz, papa, platano, \n",
      " un poco de arroz, papa, platano,\n"
     ]
    }
   ],
   "source": [
    "#cosechas = ['arroz','papa','platano']\n",
    "doc += '\\n un poco de '\n",
    "for i in cosechas: doc+= i+', '\n",
    "print(doc[:-1])"
   ]
  },
  {
   "cell_type": "code",
   "execution_count": 63,
   "metadata": {},
   "outputs": [],
   "source": [
    "f = open(\"CreadoConPython.txt\", \"w\")\n",
    "f.write(doc)\n",
    "f.close()"
   ]
  }
 ],
 "metadata": {
  "kernelspec": {
   "display_name": "Python 3",
   "language": "python",
   "name": "python3"
  },
  "language_info": {
   "codemirror_mode": {
    "name": "ipython",
    "version": 3
   },
   "file_extension": ".py",
   "mimetype": "text/x-python",
   "name": "python",
   "nbconvert_exporter": "python",
   "pygments_lexer": "ipython3",
   "version": "3.6.9"
  }
 },
 "nbformat": 4,
 "nbformat_minor": 4
}
